{
 "cells": [
  {
   "cell_type": "code",
   "execution_count": 35,
   "id": "03bbb0e0",
   "metadata": {},
   "outputs": [],
   "source": [
    "import numpy as np\n",
    "import matplotlib.pyplot as plt"
   ]
  },
  {
   "cell_type": "code",
   "execution_count": 36,
   "id": "832670fe",
   "metadata": {},
   "outputs": [
    {
     "data": {
      "text/plain": [
       "'6x - 4'"
      ]
     },
     "execution_count": 36,
     "metadata": {},
     "output_type": "execute_result"
    }
   ],
   "source": [
    "\"3x^2 -4x -2\"\n",
    "\"6x - 4\""
   ]
  },
  {
   "cell_type": "code",
   "execution_count": 37,
   "id": "a03d6bb7",
   "metadata": {},
   "outputs": [],
   "source": [
    "def f(x):\n",
    "    \"\"\"\n",
    "    input : x\n",
    "    output : giá trị hàm 3x^2 - 4x -2\n",
    "    \"\"\"\n",
    "    return 3*x*x - 4*x -2\n"
   ]
  },
  {
   "cell_type": "code",
   "execution_count": 38,
   "id": "9a542f92",
   "metadata": {},
   "outputs": [],
   "source": [
    "def fd(x):\n",
    "    \"\"\"\n",
    "    input : x\n",
    "    output : giá trị hàm 6x - 4 \n",
    "    \"\"\"\n",
    "    return 6*x - 4 \n"
   ]
  },
  {
   "cell_type": "code",
   "execution_count": 39,
   "id": "1cb1a8e5",
   "metadata": {},
   "outputs": [],
   "source": [
    "def gra_des(LR, x_start , loop ):\n",
    "    \"\"\"\n",
    "    input : \n",
    "    LR - hằng số học \n",
    "    x_start - điểm bắt đầu chạy\n",
    "    loop - số vòng\n",
    "    output :\n",
    "    tọa độ điểm gần giá trị cực tiểu của hàm số nhất\n",
    "    \"\"\"\n",
    "    for i in range(loop):\n",
    "        x_start = x_start- LR*fd(x_start)\n",
    "        if abs(fd(x_start)) <=1e-6:\n",
    "            break\n",
    "    x_end = x_start\n",
    "    return x_end , f(x_end)\n",
    "\n",
    "        \n",
    "        \n",
    "    "
   ]
  },
  {
   "cell_type": "code",
   "execution_count": 42,
   "id": "39d0d771",
   "metadata": {},
   "outputs": [],
   "source": [
    "def list_gra_des(LR, x_start , loop ):\n",
    "    X = [x_start]\n",
    "    Y = [f(x_start)]\n",
    "    \"\"\"\n",
    "    input : \n",
    "    LR - hằng số học \n",
    "    x_start - điểm bắt đầu chạy\n",
    "    loop - số vòng\n",
    "    output :\n",
    "    tọa độ các điểm đi qua đến khi gần giá trị cực tiểu của hàm số nhất\n",
    "    \"\"\"\n",
    "    for i in range(loop):\n",
    "        x_start = x_start- LR*fd(x_start)\n",
    "        if abs(fd(x_start)) <=1e-6:\n",
    "            break\n",
    "        X.append(x_start)\n",
    "        Y.append(f(x_start))\n",
    "    return X,Y"
   ]
  },
  {
   "cell_type": "code",
   "execution_count": 49,
   "id": "2c979b9f",
   "metadata": {},
   "outputs": [
    {
     "name": "stdout",
     "output_type": "stream",
     "text": [
      "0.6666665073524518 -3.333333333333257\n"
     ]
    }
   ],
   "source": [
    "X,Y = gra_des(0.01,-5,10000000)\n",
    "print (X,Y)\n",
    "X1 =[]\n",
    "Y1=[]\n",
    "X1,Y1= list_gra_des(0.01,-5 ,10000000)"
   ]
  },
  {
   "cell_type": "code",
   "execution_count": 64,
   "id": "6df8712c",
   "metadata": {},
   "outputs": [
    {
     "data": {
      "image/png": "[encoded data removed]",
      "text/plain": [
       "<Figure size 432x288 with 1 Axes>"
      ]
     },
     "metadata": {
      "needs_background": "light"
     },
     "output_type": "display_data"
    }
   ],
   "source": [
    "\n",
    "t1= np.linspace(-5,5,100)\n",
    "plt.plot(t1,f(t1))\n",
    "plt.title(\"$3x^2 -4x -2$\")\n",
    "plt.scatter(X1,Y1,color = 'green')\n",
    "plt.scatter(X,Y,color='red')\n",
    "plt.annotate(\"Global Minium \" , xy = (X,Y), xytext = (0,10) , arrowprops = dict(facecolor = 'red', shrink = 1) )\n",
    "plt.annotate(\"start \" , xy = (X1[0],Y1[0]), xytext = (-4,90) , arrowprops = dict(facecolor = 'green', shrink = 1) )\n",
    "plt.annotate(\"next step \" , xy = (X1[1],Y1[1]), xytext = (-3.9,80) , arrowprops = dict(facecolor = 'green', shrink = 1) )\n",
    "plt.savefig(\"output.png\")"
   ]
  },
  {
   "cell_type": "code",
   "execution_count": null,
   "id": "4d76cc2b",
   "metadata": {},
   "outputs": [],
   "source": []
  },
  {
   "cell_type": "code",
   "execution_count": null,
   "id": "3391e2fd",
   "metadata": {},
   "outputs": [],
   "source": []
  }
 ],
 "metadata": {
  "kernelspec": {
   "display_name": "Python 3",
   "language": "python",
   "name": "python3"
  },
  "language_info": {
   "codemirror_mode": {
    "name": "ipython",
    "version": 3
   },
   "file_extension": ".py",
   "mimetype": "text/x-python",
   "name": "python",
   "nbconvert_exporter": "python",
   "pygments_lexer": "ipython3",
   "version": "3.8.8"
  }
 },
 "nbformat": 4,
 "nbformat_minor": 5
}
